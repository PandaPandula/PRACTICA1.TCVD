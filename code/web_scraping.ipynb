{
 "cells": [
  {
   "cell_type": "code",
   "execution_count": null,
   "id": "2cc46e3f",
   "metadata": {},
   "outputs": [],
   "source": [
    "import pandas as pd\n",
    "import time\n",
    "from time import sleep\n",
    "from selenium import webdriver\n",
    "from selenium.webdriver.common.by import By\n",
    "from selenium.webdriver.support.ui import WebDriverWait\n",
    "from selenium.webdriver.support import expected_conditions as EC\n",
    "from selenium.webdriver.common.keys import Keys\n",
    "import re"
   ]
  },
  {
   "cell_type": "code",
   "execution_count": 2,
   "id": "d0e9f901",
   "metadata": {
    "scrolled": false
   },
   "outputs": [
    {
     "name": "stderr",
     "output_type": "stream",
     "text": [
      "C:\\Users\\arnau\\AppData\\Local\\Temp\\ipykernel_39068\\1362028380.py:8: DeprecationWarning: use options instead of chrome_options\n",
      "  driver = webdriver.Chrome(driver_path, chrome_options=options)\n"
     ]
    }
   ],
   "source": [
    "# Prepara las ociones deseadas para el driver\n",
    "options = webdriver.ChromeOptions()\n",
    "options.add_argument('--start-maximized')\n",
    "options.add_argument('--disable-extensions')\n",
    "\n",
    "#Inicializa el driver\n",
    "driver_path = '/Users/saixa/Downloads/chromedriver_win32/chromedriver_win32'\n",
    "driver = webdriver.Chrome(driver_path, chrome_options=options)"
   ]
  },
  {
   "cell_type": "code",
   "execution_count": 3,
   "id": "89646667",
   "metadata": {},
   "outputs": [],
   "source": [
    "def getArguments(driver,location):\n",
    "    \n",
    "    #Prepara la ventana\n",
    "    driver.set_window_position(2000, 0)\n",
    "    driver.maximize_window()\n",
    "    time.sleep(1)\n",
    "   \n",
    "    # Elimina la primera ventana pop-up \n",
    "    WebDriverWait(driver, 3000)\\\n",
    "            .until(EC.element_to_be_clickable((By.CSS_SELECTOR,\n",
    "                                            'button._oda838')))\\\n",
    "            .click()\n",
    "    \n",
    "    #Abre el buscador de destino\n",
    "    WebDriverWait(driver, 3000)\\\n",
    "            .until(EC.element_to_be_clickable((By.XPATH,\n",
    "                                            '/html/body/div[5]/div/div/div[1]/div/div/div[1]/div/div/div/div/div/div/div[2]/div/div/div/div/header/div/div[2]/div/div/div/div[1]/div/button[1]')))\\\n",
    "            .click()\n",
    "    \n",
    "    # Identifica el input para escribir\n",
    "    search=driver.find_element(By.ID,\"bigsearch-query-location-input\")\n",
    "    sleep(4)\n",
    "    \n",
    "    # Escribe el destino\n",
    "    search.send_keys(location)\n",
    "    \n",
    "    #Identifica el botón\n",
    "    button = driver.find_element(By.XPATH,\n",
    "                                 '//*[@id=\"search-tabpanel\"]/div/div[5]/div[1]/div[2]/button')\n",
    "    \n",
    "    # Activa el click\n",
    "    button.click()\n",
    "    \n"
   ]
  },
  {
   "cell_type": "code",
   "execution_count": 4,
   "id": "7a418b40",
   "metadata": {},
   "outputs": [],
   "source": [
    "def getAllItemsByPage(pages):\n",
    "    \n",
    "    #Inicializa las listas que acumularán todo el contenido del conjunto de datos\n",
    "    links = []\n",
    "    content = []\n",
    "    \n",
    "    title=[]\n",
    "    rate = []\n",
    "    evaluations = []\n",
    "    superanfitrion=[]\n",
    "    place = []\n",
    "    price=[]\n",
    "    limpieza=[]\n",
    "    veracidad=[]\n",
    "    comunicacion=[]\n",
    "    ubication = []\n",
    "    llegada=[]\n",
    "    calidad=[]\n",
    "    wifi=[]\n",
    "    tv=[]\n",
    "    cocina=[]\n",
    "    dormitorios=[]\n",
    "    camas=[]\n",
    "    baños=[]\n",
    "    \n",
    "    \n",
    "    #Itera sobre el número de paginas escogido\n",
    "    for i in range(0,pages):\n",
    "        \n",
    "        # Intenta localizar cada uno de los links en la página de búsqueda y los guarda. Finalmente \n",
    "        #acciona el botón siguiente para seguir\n",
    "        try:\n",
    "            \n",
    "            WebDriverWait(driver,3000).until(\n",
    "                EC.presence_of_element_located(\n",
    "                    (By.CSS_SELECTOR,\"a.ln2bl2p.dir.dir-ltr\")))\n",
    "           \n",
    "            elems = driver.find_elements(By.CSS_SELECTOR,\"a.ln2bl2p.dir.dir-ltr\")\n",
    "            links.extend([elem.get_attribute('href') for elem in elems])\n",
    "            \n",
    "            WebDriverWait(driver,3000).until(\n",
    "                EC.presence_of_element_located(\n",
    "                    (By.CSS_SELECTOR,\"[aria-label='Siguiente']\")))\n",
    "            \n",
    "            a=driver.find_element(By.CSS_SELECTOR,\"[aria-label='Siguiente']\").get_attribute('href')\n",
    "            driver.get(str(a))\n",
    "            \n",
    "        # En caso de error sigue con la iteración de paginas\n",
    "        except:\n",
    "            continue\n",
    "    \n",
    "  \n",
    "\n",
    "    # Itera de nuevo sobre la lista de links, esta vez de manera completa\n",
    "    for link in links:\n",
    "        try :\n",
    "            driver.get(link)\n",
    "            sleep(1)\n",
    "            webdriver.ActionChains(driver).send_keys(Keys.ESCAPE).perform()\n",
    "            # Scrollea hacia abajo para encontrar toda la información necesaria\n",
    "            sleep(1)\n",
    "            if len(driver.find_elements(By.XPATH,\"//div[contains(., 'Traducción activada')]\")) > 0: \n",
    "                webdriver.ActionChains(driver).send_keys(Keys.ESCAPE).perform()\n",
    "                sleep(2)\n",
    "            else:\n",
    "                pass\n",
    "            sleep(1)\n",
    "            info=driver.find_element(By.XPATH,\"//div[contains(., 'Más información sobre las evaluaciones')]\").text\n",
    "            content.append(info)\n",
    "            \n",
    "            #Usa expresiones regex para sacar todo el contenido y asignarlo a cada lista\n",
    "            title.append(re.search(r'b\\n(.*?)\\n', info).group(1))\n",
    "            rate.append(re.findall(r'\\n(.*?)\\n', info)[1][:4])\n",
    "            evaluations.append([re.findall(r'\\n(.*)evaluaciones\\n', info)[0][:-1][0] if len(re.findall(r'\\n(.*)evaluaciones\\n', info)[0][:-1])<5 else 'New'] )\n",
    "            superanfitrion.append([1 if len(re.findall(r'Superanfitrión', info))>0 else 0])\n",
    "            place.append(re.findall(r'\\n·\\n(.*?),(.*?)\\n', info)[0])\n",
    "            price.append(re.findall(r'.\\n(.*?)€(.*?)\\n', info)[0][0][:-1])\n",
    "            limpieza.append(re.findall(r'\\nLimpieza\\n(.*?)\\n',info))\n",
    "            veracidad.append(re.findall(r'\\nVeracidad\\n(.*?)\\n',info))\n",
    "            comunicacion.append(re.findall(r'\\nComunicación\\n(.*?)\\n',info))\n",
    "            ubication.append(re.findall(r'[0-9]\\nUbicación\\n(.*?)\\n',info))\n",
    "            llegada.append(re.findall(r'[0-9]\\nLlegada\\n(.*?)\\n',info))\n",
    "            calidad.append(re.findall(r'[0-9]\\nCalidad\\n(.*?)\\n',info))\n",
    "            wifi.append([1 if len(re.findall(r'\\n.*?wifi.*?|\\n.*?WIFI.*?\\n',info))>0 else 0])\n",
    "            tv.append([1 if len(re.findall(r'\\n.*?tv.*?|\\n.*?TV.*?\\n|\\n.*?Televisión.*?|\\n.*?Tele.*?\\n',info))>0 else 0])\n",
    "            cocina.append([1 if len(re.findall(r'\\n.*?Cocina.*?|\\n.*?Kitchen.*?\\n',info))>0 else 0])\n",
    "            dormitorios.append([re.findall(r'· (.*?) dormitorio.*?|· (.*?) Dormitorio.*?', info)[0][0]])\n",
    "            camas.append([re.findall(r'· [0-9] camas ·|· [0-9] cama ·|· [0-9] Camas ·|· [0-9] Cama ·', info)[0][2] if len(re.findall(r'· [0-9] camas ·|· [0-9] cama ·|· [0-9] Camas ·|· [0-9] Cama ·', info))>0 else re.findall(r'· [0-9] camas ·|· [0-9] cama ·|· [0-9] Camas ·|· [0-9] Cama ·', info)])\n",
    "            baños.append(re.findall(r'·.*·.*·(.*?)baño',info))\n",
    "        \n",
    "        #En caso de algun error durante el proceso sigue con la iteración\n",
    "        except:\n",
    "            continue\n",
    "            \n",
    "         \n",
    " \n",
    "    return links,content,title,rate,evaluations,superanfitrion,place,price,limpieza,veracidad,comunicacion,ubication,llegada,calidad,wifi,tv,cocina,dormitorios,camas,baños\n"
   ]
  },
  {
   "cell_type": "code",
   "execution_count": null,
   "id": "b4bad34a",
   "metadata": {
    "scrolled": true
   },
   "outputs": [],
   "source": [
    "driver.get('https://www.airbnb.es/')\n",
    "getArguments(driver,'Barcelona')\n",
    "links,content,title,rate,evaluations,superanfitrion,place,price,limpieza,veracidad,comunicacion,ubication,llegada,calidad,wifi,tv,cocina,dormitorios,camas,baños=getAllItemsByPage(3)"
   ]
  },
  {
   "cell_type": "code",
   "execution_count": null,
   "id": "e146d261",
   "metadata": {},
   "outputs": [],
   "source": [
    "len(rate)"
   ]
  },
  {
   "cell_type": "code",
   "execution_count": null,
   "id": "2c23140c",
   "metadata": {
    "scrolled": true
   },
   "outputs": [],
   "source": [
    "# Creación de un dataframe en base a las variables que contienen las listas\n",
    "df = pd.DataFrame({'title':title,\n",
    "                     'rate':rate,\n",
    "                     'evaluations':sum(evaluations, []),\n",
    "                     'superanfitrion':sum(superanfitrion, []),\n",
    "                     'place':place,\n",
    "                     'price':price,\n",
    "                     'limpieza':limpieza,\n",
    "                     'veracidad':veracidad,\n",
    "                     'comunicacion':comunicacion,\n",
    "                     'ubication':ubication,\n",
    "                     'llegada':llegada,\n",
    "                     'calidad':calidad,\n",
    "                     'wifi':sum(wifi, []),\n",
    "                     'tv':sum(tv, []),\n",
    "                     'cocina':sum(cocina, []),\n",
    "                     'dormitorios':sum(dormitorios, []),\n",
    "                     'camas':sum(camas, [])})"
   ]
  },
  {
   "cell_type": "code",
   "execution_count": null,
   "id": "faebacb7",
   "metadata": {
    "scrolled": true
   },
   "outputs": [],
   "source": [
    "# Exportar a csv\n",
    "df.to_csv('airbnb4.csv',index=False)"
   ]
  }
 ],
 "metadata": {
  "kernelspec": {
   "display_name": "Python 3.9.13 64-bit (microsoft store)",
   "language": "python",
   "name": "python3"
  },
  "language_info": {
   "codemirror_mode": {
    "name": "ipython",
    "version": 3
   },
   "file_extension": ".py",
   "mimetype": "text/x-python",
   "name": "python",
   "nbconvert_exporter": "python",
   "pygments_lexer": "ipython3",
   "version": "3.9.13"
  },
  "vscode": {
   "interpreter": {
    "hash": "799ee158e3f44ff5afd83162848888edafea8ca1f54ec78096d57f43fef343a4"
   }
  }
 },
 "nbformat": 4,
 "nbformat_minor": 5
}
